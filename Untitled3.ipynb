{
  "nbformat": 4,
  "nbformat_minor": 0,
  "metadata": {
    "colab": {
      "name": "Untitled3.ipynb",
      "provenance": [],
      "authorship_tag": "ABX9TyP1guPf4IGnKaWvJg71hXUK",
      "include_colab_link": true
    },
    "kernelspec": {
      "name": "python3",
      "display_name": "Python 3"
    }
  },
  "cells": [
    {
      "cell_type": "markdown",
      "metadata": {
        "id": "view-in-github",
        "colab_type": "text"
      },
      "source": [
        "<a href=\"https://colab.research.google.com/github/shashankgadhe52/JUnitTesting/blob/master/Untitled3.ipynb\" target=\"_parent\"><img src=\"https://colab.research.google.com/assets/colab-badge.svg\" alt=\"Open In Colab\"/></a>"
      ]
    },
    {
      "cell_type": "code",
      "metadata": {
        "id": "JKE3K9VT7RHb"
      },
      "source": [
        "#load the dependencies\n",
        "\n",
        "import pandas as pd\n",
        "import numpy as np\n",
        "from sklearn.model_selection import train_test_split\n",
        "from sklearn.linear_model import LinearRegression\n",
        "from sklearn import metrics\n",
        "import matplotlib.pyplot as plt \n",
        "from matplotlib import style\n",
        "plt.style.use( 'bmh')"
      ],
      "execution_count": 2,
      "outputs": []
    },
    {
      "cell_type": "code",
      "metadata": {
        "id": "vRYUaS2m7dlO"
      },
      "source": [
        "#Load the data and Store the data into data frame\n",
        "\n",
        "df= pd.read_csv('/TSLA.csv')"
      ],
      "execution_count": 8,
      "outputs": []
    },
    {
      "cell_type": "code",
      "metadata": {
        "id": "fAuYFZpQ8CEP",
        "outputId": "ddc16b5e-59b6-4d2a-a65a-6d998b2c4e8b",
        "colab": {
          "base_uri": "https://localhost:8080/"
        }
      },
      "source": [
        "print(df.head(25))"
      ],
      "execution_count": 9,
      "outputs": [
        {
          "output_type": "stream",
          "text": [
            "          Date       Open       High        Low      Close  Adj Close    Volume\n",
            "0   2019-11-07  65.828003  68.300003  65.603996  67.108002  67.108002  72336500\n",
            "1   2019-11-08  66.900002  67.491997  66.500000  67.428001  67.428001  30346000\n",
            "2   2019-11-11  68.790001  69.837997  68.400002  69.017998  69.017998  49933500\n",
            "3   2019-11-12  69.379997  70.073997  68.807999  69.986000  69.986000  36797000\n",
            "4   2019-11-13  71.000000  71.265999  69.036003  69.222000  69.222000  42100500\n",
            "5   2019-11-14  69.222000  70.767998  68.582001  69.870003  69.870003  32324500\n",
            "6   2019-11-15  70.127998  70.559998  69.671997  70.433998  70.433998  24045000\n",
            "7   2019-11-18  70.584000  70.629997  69.220001  69.998001  69.998001  22002000\n",
            "8   2019-11-19  70.349998  71.998001  69.559998  71.903999  71.903999  38624000\n",
            "9   2019-11-20  72.000000  72.239998  69.914001  70.444000  70.444000  33625500\n",
            "10  2019-11-21  70.902000  72.167999  70.800003  70.966003  70.966003  30550000\n",
            "11  2019-11-22  68.031998  68.199997  66.000000  66.608002  66.608002  84353000\n",
            "12  2019-11-25  68.863998  68.914001  66.891998  67.267998  67.267998  61697500\n",
            "13  2019-11-26  67.054001  67.099998  65.419998  65.783997  65.783997  39737000\n",
            "14  2019-11-27  66.223999  66.786003  65.713997  66.258003  66.258003  27778000\n",
            "15  2019-11-29  66.222000  66.251999  65.500000  65.987999  65.987999  12328000\n",
            "16  2019-12-02  65.879997  67.276001  65.737999  66.973999  66.973999  30372500\n",
            "17  2019-12-03  66.524002  67.582001  66.438004  67.239998  67.239998  32868500\n",
            "18  2019-12-04  67.550003  67.571999  66.570000  66.606003  66.606003  27665000\n",
            "19  2019-12-05  66.566002  66.884003  65.449997  66.073997  66.073997  18623000\n",
            "20  2019-12-06  67.000000  67.772003  66.954002  67.178001  67.178001  38062000\n",
            "21  2019-12-09  67.318001  68.889999  67.015999  67.905998  67.905998  45115500\n",
            "22  2019-12-10  67.991997  70.146004  67.862000  69.767998  69.767998  44141500\n",
            "23  2019-12-11  70.375999  71.438004  70.218002  70.540001  70.540001  34489000\n",
            "24  2019-12-12  70.984001  72.547997  70.646004  71.935997  71.935997  38819500\n"
          ],
          "name": "stdout"
        }
      ]
    }
  ]
}